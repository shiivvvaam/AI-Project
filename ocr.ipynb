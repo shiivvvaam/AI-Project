{
  "nbformat": 4,
  "nbformat_minor": 0,
  "metadata": {
    "colab": {
      "provenance": []
    },
    "kernelspec": {
      "name": "python3",
      "display_name": "Python 3"
    },
    "language_info": {
      "name": "python"
    }
  },
  "cells": [
    {
      "cell_type": "markdown",
      "source": [
        "We use pip install easyocr because we google colab doesn't have easyocr installed in it plus we also change aur runtime to GPU to support the library."
      ],
      "metadata": {
        "id": "io1IOf7sGm34"
      }
    },
    {
      "cell_type": "markdown",
      "source": [
        "# Install Dependencies\n"
      ],
      "metadata": {
        "id": "RsBLdzMyeraD"
      }
    },
    {
      "cell_type": "code",
      "execution_count": 18,
      "metadata": {
        "colab": {
          "base_uri": "https://localhost:8080/"
        },
        "id": "0IuExEKMQqWD",
        "outputId": "12058351-63b7-437c-9164-e5bb86268cde"
      },
      "outputs": [
        {
          "output_type": "stream",
          "name": "stdout",
          "text": [
            "Looking in indexes: https://pypi.org/simple, https://us-python.pkg.dev/colab-wheels/public/simple/\n",
            "Requirement already satisfied: easyocr in /usr/local/lib/python3.9/dist-packages (1.6.2)\n",
            "Requirement already satisfied: numpy in /usr/local/lib/python3.9/dist-packages (from easyocr) (1.22.4)\n",
            "Requirement already satisfied: PyYAML in /usr/local/lib/python3.9/dist-packages (from easyocr) (6.0)\n",
            "Requirement already satisfied: torchvision>=0.5 in /usr/local/lib/python3.9/dist-packages (from easyocr) (0.15.1+cu118)\n",
            "Requirement already satisfied: ninja in /usr/local/lib/python3.9/dist-packages (from easyocr) (1.11.1)\n",
            "Requirement already satisfied: python-bidi in /usr/local/lib/python3.9/dist-packages (from easyocr) (0.4.2)\n",
            "Requirement already satisfied: pyclipper in /usr/local/lib/python3.9/dist-packages (from easyocr) (1.3.0.post4)\n",
            "Requirement already satisfied: scipy in /usr/local/lib/python3.9/dist-packages (from easyocr) (1.10.1)\n",
            "Requirement already satisfied: scikit-image in /usr/local/lib/python3.9/dist-packages (from easyocr) (0.19.3)\n",
            "Requirement already satisfied: opencv-python-headless<=4.5.4.60 in /usr/local/lib/python3.9/dist-packages (from easyocr) (4.5.4.60)\n",
            "Requirement already satisfied: torch in /usr/local/lib/python3.9/dist-packages (from easyocr) (2.0.0+cu118)\n",
            "Requirement already satisfied: Pillow in /usr/local/lib/python3.9/dist-packages (from easyocr) (8.4.0)\n",
            "Requirement already satisfied: Shapely in /usr/local/lib/python3.9/dist-packages (from easyocr) (2.0.1)\n",
            "Requirement already satisfied: requests in /usr/local/lib/python3.9/dist-packages (from torchvision>=0.5->easyocr) (2.27.1)\n",
            "Requirement already satisfied: triton==2.0.0 in /usr/local/lib/python3.9/dist-packages (from torch->easyocr) (2.0.0)\n",
            "Requirement already satisfied: typing-extensions in /usr/local/lib/python3.9/dist-packages (from torch->easyocr) (4.5.0)\n",
            "Requirement already satisfied: networkx in /usr/local/lib/python3.9/dist-packages (from torch->easyocr) (3.1)\n",
            "Requirement already satisfied: filelock in /usr/local/lib/python3.9/dist-packages (from torch->easyocr) (3.11.0)\n",
            "Requirement already satisfied: jinja2 in /usr/local/lib/python3.9/dist-packages (from torch->easyocr) (3.1.2)\n",
            "Requirement already satisfied: sympy in /usr/local/lib/python3.9/dist-packages (from torch->easyocr) (1.11.1)\n",
            "Requirement already satisfied: lit in /usr/local/lib/python3.9/dist-packages (from triton==2.0.0->torch->easyocr) (16.0.1)\n",
            "Requirement already satisfied: cmake in /usr/local/lib/python3.9/dist-packages (from triton==2.0.0->torch->easyocr) (3.25.2)\n",
            "Requirement already satisfied: six in /usr/local/lib/python3.9/dist-packages (from python-bidi->easyocr) (1.16.0)\n",
            "Requirement already satisfied: packaging>=20.0 in /usr/local/lib/python3.9/dist-packages (from scikit-image->easyocr) (23.1)\n",
            "Requirement already satisfied: tifffile>=2019.7.26 in /usr/local/lib/python3.9/dist-packages (from scikit-image->easyocr) (2023.4.12)\n",
            "Requirement already satisfied: imageio>=2.4.1 in /usr/local/lib/python3.9/dist-packages (from scikit-image->easyocr) (2.25.1)\n",
            "Requirement already satisfied: PyWavelets>=1.1.1 in /usr/local/lib/python3.9/dist-packages (from scikit-image->easyocr) (1.4.1)\n",
            "Requirement already satisfied: MarkupSafe>=2.0 in /usr/local/lib/python3.9/dist-packages (from jinja2->torch->easyocr) (2.1.2)\n",
            "Requirement already satisfied: urllib3<1.27,>=1.21.1 in /usr/local/lib/python3.9/dist-packages (from requests->torchvision>=0.5->easyocr) (1.26.15)\n",
            "Requirement already satisfied: certifi>=2017.4.17 in /usr/local/lib/python3.9/dist-packages (from requests->torchvision>=0.5->easyocr) (2022.12.7)\n",
            "Requirement already satisfied: idna<4,>=2.5 in /usr/local/lib/python3.9/dist-packages (from requests->torchvision>=0.5->easyocr) (3.4)\n",
            "Requirement already satisfied: charset-normalizer~=2.0.0 in /usr/local/lib/python3.9/dist-packages (from requests->torchvision>=0.5->easyocr) (2.0.12)\n",
            "Requirement already satisfied: mpmath>=0.19 in /usr/local/lib/python3.9/dist-packages (from sympy->torch->easyocr) (1.3.0)\n"
          ]
        }
      ],
      "source": [
        "!pip install easyocr\n"
      ]
    },
    {
      "cell_type": "markdown",
      "source": [
        "# Import Dependencies"
      ],
      "metadata": {
        "id": "4-blqpuAa0aM"
      }
    },
    {
      "cell_type": "code",
      "source": [
        "import matplotlib.pyplot as plt\n",
        "import cv2\n",
        "import easyocr\n",
        "from IPython.display import Image"
      ],
      "metadata": {
        "id": "DEnj88cCRStY"
      },
      "execution_count": 19,
      "outputs": []
    },
    {
      "cell_type": "markdown",
      "source": [
        "Brief description of libraries being used:-\n",
        "\n",
        "* matplotlib.pyplot: This is a plotting library used for creating visualizations in Python. In this code, it is used to display the image with the detected license plate and the extracted plate region.\n",
        "\n",
        "* cv2: This is the OpenCV library, which is a computer vision library used for image and video processing. In this code, it is used for capturing the video stream from a camera, detecting license plates using a Haar Cascade classifier, and drawing rectangles around the detected plates.\n",
        "\n",
        "* easyocr: This is a Python library used for optical character recognition (OCR), which is the process of recognizing text from images. In this code, it is used to extract the text from the license plate image after the plate has been detected.\n",
        "\n",
        "* IPython.display: This is a module in the IPython library used for displaying images and other media types in Jupyter notebooks and IPython environments. In the code you provided, it is not used for any specific purpose, but it can be used to display images inline with the notebook output.\n",
        "\n",
        " Overall, these libraries work together to detect license plates in real-time video streams, extract the text from the license plate images using OCR, and display the results."
      ],
      "metadata": {
        "id": "Ea7rwymOHFya"
      }
    },
    {
      "cell_type": "markdown",
      "source": [
        "# Creating Image Object\n"
      ],
      "metadata": {
        "id": "GkYajtWrbsVr"
      }
    },
    {
      "cell_type": "code",
      "source": [
        "img=\"/content/scanned_img_287.jpg\"\n",
        "Image(img)"
      ],
      "metadata": {
        "colab": {
          "base_uri": "https://localhost:8080/",
          "height": 126
        },
        "id": "mEUkBylvR0Nh",
        "outputId": "7b795112-6c2c-487b-a4a9-acf965048228"
      },
      "execution_count": 20,
      "outputs": [
        {
          "output_type": "execute_result",
          "data": {
            "image/jpeg": "[encoded data removed]",
            "text/plain": [
              "<IPython.core.display.Image object>"
            ]
          },
          "metadata": {},
          "execution_count": 20
        }
      ]
    },
    {
      "cell_type": "markdown",
      "source": [
        "# Creating an OCR Reader"
      ],
      "metadata": {
        "id": "38zHFKcnc2vk"
      }
    },
    {
      "cell_type": "code",
      "source": [
        "reader=easyocr.Reader(['en'])"
      ],
      "metadata": {
        "colab": {
          "base_uri": "https://localhost:8080/"
        },
        "id": "j4BvLPPMSFME",
        "outputId": "9e5802d9-9281-4e69-c700-737418db96bf"
      },
      "execution_count": 21,
      "outputs": [
        {
          "output_type": "stream",
          "name": "stderr",
          "text": [
            "WARNING:easyocr.easyocr:CUDA not available - defaulting to CPU. Note: This module is much faster with a GPU.\n"
          ]
        }
      ]
    },
    {
      "cell_type": "markdown",
      "source": [
        "# Performing OCR on Image"
      ],
      "metadata": {
        "id": "YQss6ztXdS7r"
      }
    },
    {
      "cell_type": "code",
      "source": [
        "output=reader.readtext(img)\n",
        "output #output will store the list of tuples containing the extracted text \n",
        "       #and their corresponding location and confidence score information."
      ],
      "metadata": {
        "colab": {
          "base_uri": "https://localhost:8080/"
        },
        "id": "yeSIWc8iSOCv",
        "outputId": "5b70df7e-a308-479a-889d-7d1a1662aca2"
      },
      "execution_count": 22,
      "outputs": [
        {
          "output_type": "execute_result",
          "data": {
            "text/plain": [
              "[([[21, 23], [239, 23], [239, 67], [21, 67]],\n",
              "  'PB11DCO889',\n",
              "  0.5305403045459288)]"
            ]
          },
          "metadata": {},
          "execution_count": 22
        }
      ]
    },
    {
      "cell_type": "markdown",
      "source": [
        "# Printing Number Plate"
      ],
      "metadata": {
        "id": "E0vK0jVDdtrM"
      }
    },
    {
      "cell_type": "code",
      "source": [
        "print(\"NUMBER PLATE-->\",output[-1][-2])\n"
      ],
      "metadata": {
        "colab": {
          "base_uri": "https://localhost:8080/"
        },
        "id": "WPzQNwQ1SslF",
        "outputId": "8af5427d-102a-485e-e2c7-e1a1f0a8652b"
      },
      "execution_count": 23,
      "outputs": [
        {
          "output_type": "stream",
          "name": "stdout",
          "text": [
            "NUMBER PLATE--> PB11DCO889\n"
          ]
        }
      ]
    },
    {
      "cell_type": "markdown",
      "source": [
        "Thereby our goal of Automatic Number Plate\n",
        "Recognition is achieved"
      ],
      "metadata": {
        "id": "YPUJZ-jSHydq"
      }
    }
  ]
}